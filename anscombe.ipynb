{
  "cells": [
    {
      "cell_type": "markdown",
      "metadata": {
        "colab_type": "text",
        "id": "view-in-github"
      },
      "source": [
        "<a href=\"https://colab.research.google.com/gist/luizleroy/acfbe9f0a0d281532bd25eefcd346d69/anscombe.ipynb\" target=\"_parent\"><img src=\"https://colab.research.google.com/assets/colab-badge.svg\" alt=\"Open In Colab\"/></a>"
      ]
    },
    {
      "cell_type": "code",
      "execution_count": 2,
      "metadata": {
        "id": "nN2bM3YJjkQp"
      },
      "outputs": [],
      "source": [
        "#VEJA: ↑ - LINK PARA EXECUÇÃO VIA COLAB ACIMA\n",
        "\n",
        "import pandas as pd\n",
        "import numpy as np\n",
        "import matplotlib.pyplot as plt\n",
        "from sklearn.svm import SVC\n",
        "from sklearn import svm\n",
        "from sklearn.discriminant_analysis import LinearDiscriminantAnalysis\n",
        "from sklearn.naive_bayes import GaussianNB\n",
        "from sklearn.neighbors import KNeighborsClassifier\n",
        "from sklearn.tree import DecisionTreeClassifier\n",
        "from sklearn.svm import SVC\n",
        "from sklearn.ensemble import AdaBoostClassifier\n",
        "from sklearn.ensemble import GradientBoostingClassifier\n",
        "from sklearn.ensemble import RandomForestClassifier\n",
        "\n",
        "from sklearn.ensemble import ExtraTreesClassifier\n",
        "\n",
        "from sklearn.model_selection import cross_val_score\n",
        "\n",
        "import xgboost as xgb\n",
        "\n",
        "from sklearn.model_selection import train_test_split\n",
        "from sklearn import model_selection\n",
        "\n",
        "from sklearn.model_selection import cross_val_score\n",
        "\n",
        "from sklearn import datasets, linear_model\n",
        "\n",
        "import random"
      ]
    },
    {
      "cell_type": "code",
      "execution_count": null,
      "metadata": {},
      "outputs": [],
      "source": []
    },
    {
      "cell_type": "code",
      "execution_count": 5,
      "metadata": {},
      "outputs": [
        {
          "name": "stdout",
          "output_type": "stream",
          "text": [
            "Requirement already satisfied: keras in /Library/Frameworks/Python.framework/Versions/3.10/lib/python3.10/site-packages (2.10.0)\n",
            "Note: you may need to restart the kernel to use updated packages.\n"
          ]
        }
      ],
      "source": [
        "%pip install keras"
      ]
    },
    {
      "cell_type": "code",
      "execution_count": 1,
      "metadata": {},
      "outputs": [
        {
          "ename": "ModuleNotFoundError",
          "evalue": "No module named 'tensorflow'",
          "output_type": "error",
          "traceback": [
            "\u001b[0;31m---------------------------------------------------------------------------\u001b[0m",
            "\u001b[0;31mModuleNotFoundError\u001b[0m                       Traceback (most recent call last)",
            "\u001b[1;32m/Users/rubens/Documents/CIENCIA DE DADOS/PYTHON/anscombe.ipynb Célula: 5\u001b[0m in \u001b[0;36m<cell line: 1>\u001b[0;34m()\u001b[0m\n\u001b[0;32m----> <a href='vscode-notebook-cell:/Users/rubens/Documents/CIENCIA%20DE%20DADOS/PYTHON/anscombe.ipynb#ch0000023?line=0'>1</a>\u001b[0m \u001b[39mfrom\u001b[39;00m \u001b[39mkeras\u001b[39;00m\u001b[39m.\u001b[39;00m\u001b[39mmodels\u001b[39;00m \u001b[39mimport\u001b[39;00m Sequential \n\u001b[1;32m      <a href='vscode-notebook-cell:/Users/rubens/Documents/CIENCIA%20DE%20DADOS/PYTHON/anscombe.ipynb#ch0000023?line=1'>2</a>\u001b[0m model \u001b[39m=\u001b[39m Sequential()\n",
            "File \u001b[0;32m/Library/Frameworks/Python.framework/Versions/3.10/lib/python3.10/site-packages/keras/__init__.py:20\u001b[0m, in \u001b[0;36m<module>\u001b[0;34m\u001b[0m\n\u001b[1;32m      1\u001b[0m \u001b[39m# Copyright 2015 The TensorFlow Authors. All Rights Reserved.\u001b[39;00m\n\u001b[1;32m      2\u001b[0m \u001b[39m#\u001b[39;00m\n\u001b[1;32m      3\u001b[0m \u001b[39m# Licensed under the Apache License, Version 2.0 (the \"License\");\u001b[39;00m\n\u001b[0;32m   (...)\u001b[0m\n\u001b[1;32m     13\u001b[0m \u001b[39m# limitations under the License.\u001b[39;00m\n\u001b[1;32m     14\u001b[0m \u001b[39m# ==============================================================================\u001b[39;00m\n\u001b[1;32m     15\u001b[0m \u001b[39m\"\"\"Implementation of the Keras API, the high-level API of TensorFlow.\u001b[39;00m\n\u001b[1;32m     16\u001b[0m \n\u001b[1;32m     17\u001b[0m \u001b[39mDetailed documentation and user guides are available at\u001b[39;00m\n\u001b[1;32m     18\u001b[0m \u001b[39m[keras.io](https://keras.io).\u001b[39;00m\n\u001b[1;32m     19\u001b[0m \u001b[39m\"\"\"\u001b[39;00m\n\u001b[0;32m---> 20\u001b[0m \u001b[39mfrom\u001b[39;00m \u001b[39mkeras\u001b[39;00m \u001b[39mimport\u001b[39;00m distribute\n\u001b[1;32m     21\u001b[0m \u001b[39mfrom\u001b[39;00m \u001b[39mkeras\u001b[39;00m \u001b[39mimport\u001b[39;00m models\n\u001b[1;32m     22\u001b[0m \u001b[39mfrom\u001b[39;00m \u001b[39mkeras\u001b[39;00m\u001b[39m.\u001b[39;00m\u001b[39mengine\u001b[39;00m\u001b[39m.\u001b[39;00m\u001b[39minput_layer\u001b[39;00m \u001b[39mimport\u001b[39;00m Input\n",
            "File \u001b[0;32m/Library/Frameworks/Python.framework/Versions/3.10/lib/python3.10/site-packages/keras/distribute/__init__.py:18\u001b[0m, in \u001b[0;36m<module>\u001b[0;34m\u001b[0m\n\u001b[1;32m      1\u001b[0m \u001b[39m# Copyright 2019 The TensorFlow Authors. All Rights Reserved.\u001b[39;00m\n\u001b[1;32m      2\u001b[0m \u001b[39m#\u001b[39;00m\n\u001b[1;32m      3\u001b[0m \u001b[39m# Licensed under the Apache License, Version 2.0 (the \"License\");\u001b[39;00m\n\u001b[0;32m   (...)\u001b[0m\n\u001b[1;32m     13\u001b[0m \u001b[39m# limitations under the License.\u001b[39;00m\n\u001b[1;32m     14\u001b[0m \u001b[39m# ==============================================================================\u001b[39;00m\n\u001b[1;32m     15\u001b[0m \u001b[39m\"\"\"Keras' Distribution Strategy library.\"\"\"\u001b[39;00m\n\u001b[0;32m---> 18\u001b[0m \u001b[39mfrom\u001b[39;00m \u001b[39mkeras\u001b[39;00m\u001b[39m.\u001b[39;00m\u001b[39mdistribute\u001b[39;00m \u001b[39mimport\u001b[39;00m sidecar_evaluator\n",
            "File \u001b[0;32m/Library/Frameworks/Python.framework/Versions/3.10/lib/python3.10/site-packages/keras/distribute/sidecar_evaluator.py:17\u001b[0m, in \u001b[0;36m<module>\u001b[0;34m\u001b[0m\n\u001b[1;32m      1\u001b[0m \u001b[39m# Copyright 2020 The TensorFlow Authors. All Rights Reserved.\u001b[39;00m\n\u001b[1;32m      2\u001b[0m \u001b[39m#\u001b[39;00m\n\u001b[1;32m      3\u001b[0m \u001b[39m# Licensed under the Apache License, Version 2.0 (the \"License\");\u001b[39;00m\n\u001b[0;32m   (...)\u001b[0m\n\u001b[1;32m     13\u001b[0m \u001b[39m# limitations under the License.\u001b[39;00m\n\u001b[1;32m     14\u001b[0m \u001b[39m# ==============================================================================\u001b[39;00m\n\u001b[1;32m     15\u001b[0m \u001b[39m\"\"\"Python module for evaluation loop.\"\"\"\u001b[39;00m\n\u001b[0;32m---> 17\u001b[0m \u001b[39mimport\u001b[39;00m \u001b[39mtensorflow\u001b[39;00m\u001b[39m.\u001b[39;00m\u001b[39mcompat\u001b[39;00m\u001b[39m.\u001b[39;00m\u001b[39mv2\u001b[39;00m \u001b[39mas\u001b[39;00m \u001b[39mtf\u001b[39;00m\n\u001b[1;32m     19\u001b[0m \u001b[39m# isort: off\u001b[39;00m\n\u001b[1;32m     20\u001b[0m \u001b[39mfrom\u001b[39;00m \u001b[39mtensorflow\u001b[39;00m\u001b[39m.\u001b[39;00m\u001b[39mpython\u001b[39;00m\u001b[39m.\u001b[39;00m\u001b[39mplatform\u001b[39;00m \u001b[39mimport\u001b[39;00m tf_logging \u001b[39mas\u001b[39;00m logging\n",
            "\u001b[0;31mModuleNotFoundError\u001b[0m: No module named 'tensorflow'"
          ]
        }
      ],
      "source": [
        "from keras.models import Sequential \n",
        "model = Sequential()"
      ]
    },
    {
      "cell_type": "code",
      "execution_count": 4,
      "metadata": {},
      "outputs": [
        {
          "ename": "ModuleNotFoundError",
          "evalue": "No module named 'tensorflow'",
          "output_type": "error",
          "traceback": [
            "\u001b[0;31m---------------------------------------------------------------------------\u001b[0m",
            "\u001b[0;31mModuleNotFoundError\u001b[0m                       Traceback (most recent call last)",
            "\u001b[1;32m/Users/rubens/Documents/CIENCIA DE DADOS/PYTHON/anscombe.ipynb Célula: 6\u001b[0m in \u001b[0;36m<cell line: 2>\u001b[0;34m()\u001b[0m\n\u001b[1;32m      <a href='vscode-notebook-cell:/Users/rubens/Documents/CIENCIA%20DE%20DADOS/PYTHON/anscombe.ipynb#ch0000003?line=0'>1</a>\u001b[0m \u001b[39m# Necessary imports\u001b[39;00m\n\u001b[0;32m----> <a href='vscode-notebook-cell:/Users/rubens/Documents/CIENCIA%20DE%20DADOS/PYTHON/anscombe.ipynb#ch0000003?line=1'>2</a>\u001b[0m \u001b[39mimport\u001b[39;00m \u001b[39mkeras\u001b[39;00m \n\u001b[1;32m      <a href='vscode-notebook-cell:/Users/rubens/Documents/CIENCIA%20DE%20DADOS/PYTHON/anscombe.ipynb#ch0000003?line=2'>3</a>\u001b[0m \u001b[39mimport\u001b[39;00m \u001b[39mnumpy\u001b[39;00m \u001b[39mas\u001b[39;00m \u001b[39mnp\u001b[39;00m\n\u001b[1;32m      <a href='vscode-notebook-cell:/Users/rubens/Documents/CIENCIA%20DE%20DADOS/PYTHON/anscombe.ipynb#ch0000003?line=3'>4</a>\u001b[0m \u001b[39mimport\u001b[39;00m \u001b[39mpandas\u001b[39;00m \u001b[39mas\u001b[39;00m \u001b[39mpd\u001b[39;00m\n",
            "File \u001b[0;32m/Library/Frameworks/Python.framework/Versions/3.10/lib/python3.10/site-packages/keras/__init__.py:20\u001b[0m, in \u001b[0;36m<module>\u001b[0;34m\u001b[0m\n\u001b[1;32m      1\u001b[0m \u001b[39m# Copyright 2015 The TensorFlow Authors. All Rights Reserved.\u001b[39;00m\n\u001b[1;32m      2\u001b[0m \u001b[39m#\u001b[39;00m\n\u001b[1;32m      3\u001b[0m \u001b[39m# Licensed under the Apache License, Version 2.0 (the \"License\");\u001b[39;00m\n\u001b[0;32m   (...)\u001b[0m\n\u001b[1;32m     13\u001b[0m \u001b[39m# limitations under the License.\u001b[39;00m\n\u001b[1;32m     14\u001b[0m \u001b[39m# ==============================================================================\u001b[39;00m\n\u001b[1;32m     15\u001b[0m \u001b[39m\"\"\"Implementation of the Keras API, the high-level API of TensorFlow.\u001b[39;00m\n\u001b[1;32m     16\u001b[0m \n\u001b[1;32m     17\u001b[0m \u001b[39mDetailed documentation and user guides are available at\u001b[39;00m\n\u001b[1;32m     18\u001b[0m \u001b[39m[keras.io](https://keras.io).\u001b[39;00m\n\u001b[1;32m     19\u001b[0m \u001b[39m\"\"\"\u001b[39;00m\n\u001b[0;32m---> 20\u001b[0m \u001b[39mfrom\u001b[39;00m \u001b[39mkeras\u001b[39;00m \u001b[39mimport\u001b[39;00m distribute\n\u001b[1;32m     21\u001b[0m \u001b[39mfrom\u001b[39;00m \u001b[39mkeras\u001b[39;00m \u001b[39mimport\u001b[39;00m models\n\u001b[1;32m     22\u001b[0m \u001b[39mfrom\u001b[39;00m \u001b[39mkeras\u001b[39;00m\u001b[39m.\u001b[39;00m\u001b[39mengine\u001b[39;00m\u001b[39m.\u001b[39;00m\u001b[39minput_layer\u001b[39;00m \u001b[39mimport\u001b[39;00m Input\n",
            "File \u001b[0;32m/Library/Frameworks/Python.framework/Versions/3.10/lib/python3.10/site-packages/keras/distribute/__init__.py:18\u001b[0m, in \u001b[0;36m<module>\u001b[0;34m\u001b[0m\n\u001b[1;32m      1\u001b[0m \u001b[39m# Copyright 2019 The TensorFlow Authors. All Rights Reserved.\u001b[39;00m\n\u001b[1;32m      2\u001b[0m \u001b[39m#\u001b[39;00m\n\u001b[1;32m      3\u001b[0m \u001b[39m# Licensed under the Apache License, Version 2.0 (the \"License\");\u001b[39;00m\n\u001b[0;32m   (...)\u001b[0m\n\u001b[1;32m     13\u001b[0m \u001b[39m# limitations under the License.\u001b[39;00m\n\u001b[1;32m     14\u001b[0m \u001b[39m# ==============================================================================\u001b[39;00m\n\u001b[1;32m     15\u001b[0m \u001b[39m\"\"\"Keras' Distribution Strategy library.\"\"\"\u001b[39;00m\n\u001b[0;32m---> 18\u001b[0m \u001b[39mfrom\u001b[39;00m \u001b[39mkeras\u001b[39;00m\u001b[39m.\u001b[39;00m\u001b[39mdistribute\u001b[39;00m \u001b[39mimport\u001b[39;00m sidecar_evaluator\n",
            "File \u001b[0;32m/Library/Frameworks/Python.framework/Versions/3.10/lib/python3.10/site-packages/keras/distribute/sidecar_evaluator.py:17\u001b[0m, in \u001b[0;36m<module>\u001b[0;34m\u001b[0m\n\u001b[1;32m      1\u001b[0m \u001b[39m# Copyright 2020 The TensorFlow Authors. All Rights Reserved.\u001b[39;00m\n\u001b[1;32m      2\u001b[0m \u001b[39m#\u001b[39;00m\n\u001b[1;32m      3\u001b[0m \u001b[39m# Licensed under the Apache License, Version 2.0 (the \"License\");\u001b[39;00m\n\u001b[0;32m   (...)\u001b[0m\n\u001b[1;32m     13\u001b[0m \u001b[39m# limitations under the License.\u001b[39;00m\n\u001b[1;32m     14\u001b[0m \u001b[39m# ==============================================================================\u001b[39;00m\n\u001b[1;32m     15\u001b[0m \u001b[39m\"\"\"Python module for evaluation loop.\"\"\"\u001b[39;00m\n\u001b[0;32m---> 17\u001b[0m \u001b[39mimport\u001b[39;00m \u001b[39mtensorflow\u001b[39;00m\u001b[39m.\u001b[39;00m\u001b[39mcompat\u001b[39;00m\u001b[39m.\u001b[39;00m\u001b[39mv2\u001b[39;00m \u001b[39mas\u001b[39;00m \u001b[39mtf\u001b[39;00m\n\u001b[1;32m     19\u001b[0m \u001b[39m# isort: off\u001b[39;00m\n\u001b[1;32m     20\u001b[0m \u001b[39mfrom\u001b[39;00m \u001b[39mtensorflow\u001b[39;00m\u001b[39m.\u001b[39;00m\u001b[39mpython\u001b[39;00m\u001b[39m.\u001b[39;00m\u001b[39mplatform\u001b[39;00m \u001b[39mimport\u001b[39;00m tf_logging \u001b[39mas\u001b[39;00m logging\n",
            "\u001b[0;31mModuleNotFoundError\u001b[0m: No module named 'tensorflow'"
          ]
        }
      ],
      "source": [
        "# Necessary imports\n",
        "import keras \n",
        "import numpy as np\n",
        "import pandas as pd\n",
        "import xgboost as xgb\n",
        "from sklearn.model_selection import train_test_split\n",
        "from sklearn.metrics import mean_squared_error as MSE\n",
        "  \n",
        "# Load the data\n",
        "url = 'https://drive.google.com/file/d/1t8BVy12jkBoVFBhkpkS28hYesKiNb1kQ/view?usp=sharing'\n",
        "url = 'https://drive.google.com/uc?id=' + url.split('/')[-2]\n",
        "dataset = pd.read_csv(url)\n",
        "X, y = dataset.iloc[:, :-1], dataset.iloc[:, -1]\n",
        "  \n",
        "# Splitting\n",
        "train_X, test_X, train_y, test_y = train_test_split(X, y,\n",
        "                      test_size = 0.3, random_state = 123)\n",
        "  \n",
        "# Instantiation\n",
        "model = xgb.XGBRegressor(objective ='reg:linear',\n",
        "                  n_estimators = 10, seed = 123)\n",
        "  \n",
        "# Fitting the model\n",
        "model.fit(train_X, train_y)\n",
        "  \n",
        "# Predict the model\n",
        "pred = model.predict(test_X)\n",
        "  \n",
        "# RMSE Computation\n",
        "rmse = np.sqrt(MSE(test_y, pred))\n",
        "print(\"RMSE : % f\" %(rmse))"
      ]
    },
    {
      "cell_type": "code",
      "execution_count": 23,
      "metadata": {},
      "outputs": [],
      "source": [
        "dataset.drop(columns=[\"Embarked\"], inplace=True)\n",
        "\n"
      ]
    },
    {
      "cell_type": "code",
      "execution_count": null,
      "metadata": {},
      "outputs": [],
      "source": []
    },
    {
      "cell_type": "code",
      "execution_count": 24,
      "metadata": {},
      "outputs": [
        {
          "data": {
            "text/html": [
              "<div>\n",
              "<style scoped>\n",
              "    .dataframe tbody tr th:only-of-type {\n",
              "        vertical-align: middle;\n",
              "    }\n",
              "\n",
              "    .dataframe tbody tr th {\n",
              "        vertical-align: top;\n",
              "    }\n",
              "\n",
              "    .dataframe thead th {\n",
              "        text-align: right;\n",
              "    }\n",
              "</style>\n",
              "<table border=\"1\" class=\"dataframe\">\n",
              "  <thead>\n",
              "    <tr style=\"text-align: right;\">\n",
              "      <th></th>\n",
              "      <th>PassengerId</th>\n",
              "      <th>Survived</th>\n",
              "      <th>Pclass</th>\n",
              "      <th>Age</th>\n",
              "      <th>SibSp</th>\n",
              "      <th>Parch</th>\n",
              "      <th>Fare</th>\n",
              "    </tr>\n",
              "  </thead>\n",
              "  <tbody>\n",
              "    <tr>\n",
              "      <th>0</th>\n",
              "      <td>1</td>\n",
              "      <td>0</td>\n",
              "      <td>3</td>\n",
              "      <td>22.0</td>\n",
              "      <td>1</td>\n",
              "      <td>0</td>\n",
              "      <td>7.2500</td>\n",
              "    </tr>\n",
              "    <tr>\n",
              "      <th>1</th>\n",
              "      <td>2</td>\n",
              "      <td>1</td>\n",
              "      <td>1</td>\n",
              "      <td>38.0</td>\n",
              "      <td>1</td>\n",
              "      <td>0</td>\n",
              "      <td>71.2833</td>\n",
              "    </tr>\n",
              "    <tr>\n",
              "      <th>2</th>\n",
              "      <td>3</td>\n",
              "      <td>1</td>\n",
              "      <td>3</td>\n",
              "      <td>26.0</td>\n",
              "      <td>0</td>\n",
              "      <td>0</td>\n",
              "      <td>7.9250</td>\n",
              "    </tr>\n",
              "    <tr>\n",
              "      <th>3</th>\n",
              "      <td>4</td>\n",
              "      <td>1</td>\n",
              "      <td>1</td>\n",
              "      <td>35.0</td>\n",
              "      <td>1</td>\n",
              "      <td>0</td>\n",
              "      <td>53.1000</td>\n",
              "    </tr>\n",
              "    <tr>\n",
              "      <th>4</th>\n",
              "      <td>5</td>\n",
              "      <td>0</td>\n",
              "      <td>3</td>\n",
              "      <td>35.0</td>\n",
              "      <td>0</td>\n",
              "      <td>0</td>\n",
              "      <td>8.0500</td>\n",
              "    </tr>\n",
              "  </tbody>\n",
              "</table>\n",
              "</div>"
            ],
            "text/plain": [
              "   PassengerId  Survived  Pclass   Age  SibSp  Parch     Fare\n",
              "0            1         0       3  22.0      1      0   7.2500\n",
              "1            2         1       1  38.0      1      0  71.2833\n",
              "2            3         1       3  26.0      0      0   7.9250\n",
              "3            4         1       1  35.0      1      0  53.1000\n",
              "4            5         0       3  35.0      0      0   8.0500"
            ]
          },
          "execution_count": 24,
          "metadata": {},
          "output_type": "execute_result"
        }
      ],
      "source": [
        "dataset.head()"
      ]
    },
    {
      "cell_type": "code",
      "execution_count": 33,
      "metadata": {},
      "outputs": [
        {
          "ename": "NameError",
          "evalue": "name 'teste' is not defined",
          "output_type": "error",
          "traceback": [
            "\u001b[0;31m---------------------------------------------------------------------------\u001b[0m",
            "\u001b[0;31mNameError\u001b[0m                                 Traceback (most recent call last)",
            "\u001b[1;32m/Users/rubens/Documents/CIENCIA DE DADOS/PYTHON/anscombe.ipynb Célula: 8\u001b[0m in \u001b[0;36m<cell line: 1>\u001b[0;34m()\u001b[0m\n\u001b[0;32m----> <a href='vscode-notebook-cell:/Users/rubens/Documents/CIENCIA%20DE%20DADOS/PYTHON/anscombe.ipynb#ch0000022?line=0'>1</a>\u001b[0m dataset\u001b[39m=\u001b[39m teste\u001b[39m.\u001b[39mto_csv\n",
            "\u001b[0;31mNameError\u001b[0m: name 'teste' is not defined"
          ]
        }
      ],
      "source": [
        "dataset= teste.to_csv"
      ]
    },
    {
      "cell_type": "code",
      "execution_count": 1,
      "metadata": {},
      "outputs": [],
      "source": [
        "from pyexpat import model\n",
        "import numpy as np\n",
        "import pandas as pd\n",
        "import xgboost as xgb\n",
        "from sklearn.model_selection import train_test_split\n",
        "from sklearn.metrics import mean_squared_error as MSE\n",
        "from collections.abc import MutableMapping\n",
        "\n",
        "  \n",
        "X, y = dataset.iloc[:, :-1], dataset.iloc[:, -1]\n",
        "  \n",
        "# Splitting\n",
        "train_X, test_X, train_y, test_y = train_test_split(X, y,\n",
        "                      test_size = 0.3, random_state = 123)\n",
        "  \n",
        "# Instantiation\n",
        "model = xgb.XGBRegressor(objective ='reg:linear',\n",
        "                  n_estimators = 10, seed = 123)\n",
        "  \n"
      ]
    },
    {
      "cell_type": "code",
      "execution_count": 28,
      "metadata": {},
      "outputs": [
        {
          "ename": "AttributeError",
          "evalue": "module 'collections' has no attribute 'Mapping'",
          "output_type": "error",
          "traceback": [
            "\u001b[0;31m---------------------------------------------------------------------------\u001b[0m",
            "\u001b[0;31mAttributeError\u001b[0m                            Traceback (most recent call last)",
            "\u001b[1;32m/Users/rubens/Documents/CIENCIA DE DADOS/PYTHON/anscombe.ipynb Célula: 9\u001b[0m in \u001b[0;36m<cell line: 2>\u001b[0;34m()\u001b[0m\n\u001b[1;32m      <a href='vscode-notebook-cell:/Users/rubens/Documents/CIENCIA%20DE%20DADOS/PYTHON/anscombe.ipynb#ch0000006?line=0'>1</a>\u001b[0m \u001b[39m# Fitting the model\u001b[39;00m\n\u001b[0;32m----> <a href='vscode-notebook-cell:/Users/rubens/Documents/CIENCIA%20DE%20DADOS/PYTHON/anscombe.ipynb#ch0000006?line=1'>2</a>\u001b[0m model\u001b[39m.\u001b[39;49mfit(train_X, train_y)\n",
            "File \u001b[0;32m/Library/Frameworks/Python.framework/Versions/3.10/lib/python3.10/site-packages/xgboost/sklearn.py:289\u001b[0m, in \u001b[0;36mXGBModel.fit\u001b[0;34m(self, X, y, sample_weight, eval_set, eval_metric, early_stopping_rounds, verbose, xgb_model)\u001b[0m\n\u001b[1;32m    286\u001b[0m     \u001b[39melse\u001b[39;00m:\n\u001b[1;32m    287\u001b[0m         params\u001b[39m.\u001b[39mupdate({\u001b[39m'\u001b[39m\u001b[39meval_metric\u001b[39m\u001b[39m'\u001b[39m: eval_metric})\n\u001b[0;32m--> 289\u001b[0m \u001b[39mself\u001b[39m\u001b[39m.\u001b[39m_Booster \u001b[39m=\u001b[39m train(params, trainDmatrix,\n\u001b[1;32m    290\u001b[0m                       \u001b[39mself\u001b[39;49m\u001b[39m.\u001b[39;49mn_estimators, evals\u001b[39m=\u001b[39;49mevals,\n\u001b[1;32m    291\u001b[0m                       early_stopping_rounds\u001b[39m=\u001b[39;49mearly_stopping_rounds,\n\u001b[1;32m    292\u001b[0m                       evals_result\u001b[39m=\u001b[39;49mevals_result, obj\u001b[39m=\u001b[39;49mobj, feval\u001b[39m=\u001b[39;49mfeval,\n\u001b[1;32m    293\u001b[0m                       verbose_eval\u001b[39m=\u001b[39;49mverbose, xgb_model\u001b[39m=\u001b[39;49mxgb_model)\n\u001b[1;32m    295\u001b[0m \u001b[39mif\u001b[39;00m evals_result:\n\u001b[1;32m    296\u001b[0m     \u001b[39mfor\u001b[39;00m val \u001b[39min\u001b[39;00m evals_result\u001b[39m.\u001b[39mitems():\n",
            "File \u001b[0;32m/Library/Frameworks/Python.framework/Versions/3.10/lib/python3.10/site-packages/xgboost/training.py:200\u001b[0m, in \u001b[0;36mtrain\u001b[0;34m(params, dtrain, num_boost_round, evals, obj, feval, maximize, early_stopping_rounds, evals_result, verbose_eval, xgb_model, callbacks, learning_rates)\u001b[0m\n\u001b[1;32m    196\u001b[0m     warnings\u001b[39m.\u001b[39mwarn(\u001b[39m\"\u001b[39m\u001b[39mlearning_rates parameter is deprecated - use callback API instead\u001b[39m\u001b[39m\"\u001b[39m,\n\u001b[1;32m    197\u001b[0m                   \u001b[39mDeprecationWarning\u001b[39;00m)\n\u001b[1;32m    198\u001b[0m     callbacks\u001b[39m.\u001b[39mappend(callback\u001b[39m.\u001b[39mreset_learning_rate(learning_rates))\n\u001b[0;32m--> 200\u001b[0m \u001b[39mreturn\u001b[39;00m _train_internal(params, dtrain,\n\u001b[1;32m    201\u001b[0m                        num_boost_round\u001b[39m=\u001b[39;49mnum_boost_round,\n\u001b[1;32m    202\u001b[0m                        evals\u001b[39m=\u001b[39;49mevals,\n\u001b[1;32m    203\u001b[0m                        obj\u001b[39m=\u001b[39;49mobj, feval\u001b[39m=\u001b[39;49mfeval,\n\u001b[1;32m    204\u001b[0m                        xgb_model\u001b[39m=\u001b[39;49mxgb_model, callbacks\u001b[39m=\u001b[39;49mcallbacks)\n",
            "File \u001b[0;32m/Library/Frameworks/Python.framework/Versions/3.10/lib/python3.10/site-packages/xgboost/training.py:32\u001b[0m, in \u001b[0;36m_train_internal\u001b[0;34m(params, dtrain, num_boost_round, evals, obj, feval, xgb_model, callbacks)\u001b[0m\n\u001b[1;32m     29\u001b[0m     \u001b[39mfor\u001b[39;00m eval_metric \u001b[39min\u001b[39;00m eval_metrics:\n\u001b[1;32m     30\u001b[0m         params \u001b[39m+\u001b[39m\u001b[39m=\u001b[39m [(\u001b[39m'\u001b[39m\u001b[39meval_metric\u001b[39m\u001b[39m'\u001b[39m, eval_metric)]\n\u001b[0;32m---> 32\u001b[0m bst \u001b[39m=\u001b[39m Booster(params, [dtrain] \u001b[39m+\u001b[39;49m [d[\u001b[39m0\u001b[39;49m] \u001b[39mfor\u001b[39;49;00m d \u001b[39min\u001b[39;49;00m evals])\n\u001b[1;32m     33\u001b[0m nboost \u001b[39m=\u001b[39m \u001b[39m0\u001b[39m\n\u001b[1;32m     34\u001b[0m num_parallel_tree \u001b[39m=\u001b[39m \u001b[39m1\u001b[39m\n",
            "File \u001b[0;32m/Library/Frameworks/Python.framework/Versions/3.10/lib/python3.10/site-packages/xgboost/core.py:739\u001b[0m, in \u001b[0;36mBooster.__init__\u001b[0;34m(self, params, cache, model_file)\u001b[0m\n\u001b[1;32m    736\u001b[0m \u001b[39mself\u001b[39m\u001b[39m.\u001b[39mhandle \u001b[39m=\u001b[39m ctypes\u001b[39m.\u001b[39mc_void_p()\n\u001b[1;32m    737\u001b[0m _check_call(_LIB\u001b[39m.\u001b[39mXGBoosterCreate(dmats, c_bst_ulong(\u001b[39mlen\u001b[39m(cache)),\n\u001b[1;32m    738\u001b[0m                                  ctypes\u001b[39m.\u001b[39mbyref(\u001b[39mself\u001b[39m\u001b[39m.\u001b[39mhandle)))\n\u001b[0;32m--> 739\u001b[0m \u001b[39mself\u001b[39;49m\u001b[39m.\u001b[39;49mset_param({\u001b[39m'\u001b[39;49m\u001b[39mseed\u001b[39;49m\u001b[39m'\u001b[39;49m: \u001b[39m0\u001b[39;49m})\n\u001b[1;32m    740\u001b[0m \u001b[39mself\u001b[39m\u001b[39m.\u001b[39mset_param(params \u001b[39mor\u001b[39;00m {})\n\u001b[1;32m    741\u001b[0m \u001b[39mif\u001b[39;00m model_file \u001b[39mis\u001b[39;00m \u001b[39mnot\u001b[39;00m \u001b[39mNone\u001b[39;00m:\n",
            "File \u001b[0;32m/Library/Frameworks/Python.framework/Versions/3.10/lib/python3.10/site-packages/xgboost/core.py:872\u001b[0m, in \u001b[0;36mBooster.set_param\u001b[0;34m(self, params, value)\u001b[0m\n\u001b[1;32m    862\u001b[0m \u001b[39mdef\u001b[39;00m \u001b[39mset_param\u001b[39m(\u001b[39mself\u001b[39m, params, value\u001b[39m=\u001b[39m\u001b[39mNone\u001b[39;00m):\n\u001b[1;32m    863\u001b[0m     \u001b[39m\"\"\"Set parameters into the Booster.\u001b[39;00m\n\u001b[1;32m    864\u001b[0m \n\u001b[1;32m    865\u001b[0m \u001b[39m    Parameters\u001b[39;00m\n\u001b[0;32m   (...)\u001b[0m\n\u001b[1;32m    870\u001b[0m \u001b[39m       value of the specified parameter, when params is str key\u001b[39;00m\n\u001b[1;32m    871\u001b[0m \u001b[39m    \"\"\"\u001b[39;00m\n\u001b[0;32m--> 872\u001b[0m     \u001b[39mif\u001b[39;00m \u001b[39misinstance\u001b[39m(params, collections\u001b[39m.\u001b[39;49mMapping):\n\u001b[1;32m    873\u001b[0m         params \u001b[39m=\u001b[39m params\u001b[39m.\u001b[39mitems()\n\u001b[1;32m    874\u001b[0m     \u001b[39melif\u001b[39;00m \u001b[39misinstance\u001b[39m(params, STRING_TYPES) \u001b[39mand\u001b[39;00m value \u001b[39mis\u001b[39;00m \u001b[39mnot\u001b[39;00m \u001b[39mNone\u001b[39;00m:\n",
            "\u001b[0;31mAttributeError\u001b[0m: module 'collections' has no attribute 'Mapping'"
          ]
        }
      ],
      "source": [
        "# Fitting the model\n",
        "model.fit(train_X, train_y)\n",
        "  \n",
        "\n"
      ]
    },
    {
      "cell_type": "code",
      "execution_count": 27,
      "metadata": {},
      "outputs": [
        {
          "ename": "AttributeError",
          "evalue": "module 'collections' has no attribute 'Mapping'",
          "output_type": "error",
          "traceback": [
            "\u001b[0;31m---------------------------------------------------------------------------\u001b[0m",
            "\u001b[0;31mAttributeError\u001b[0m                            Traceback (most recent call last)",
            "\u001b[1;32m/Users/rubens/Documents/CIENCIA DE DADOS/PYTHON/anscombe.ipynb Célula: 10\u001b[0m in \u001b[0;36m<cell line: 1>\u001b[0;34m()\u001b[0m\n\u001b[0;32m----> <a href='vscode-notebook-cell:/Users/rubens/Documents/CIENCIA%20DE%20DADOS/PYTHON/anscombe.ipynb#ch0000007?line=0'>1</a>\u001b[0m model\u001b[39m.\u001b[39;49mfit(train_X, train_y)\n\u001b[1;32m      <a href='vscode-notebook-cell:/Users/rubens/Documents/CIENCIA%20DE%20DADOS/PYTHON/anscombe.ipynb#ch0000007?line=1'>2</a>\u001b[0m \u001b[39m# fazer previsões em cima do dataset de teste\u001b[39;00m\n\u001b[1;32m      <a href='vscode-notebook-cell:/Users/rubens/Documents/CIENCIA%20DE%20DADOS/PYTHON/anscombe.ipynb#ch0000007?line=2'>3</a>\u001b[0m predictions \u001b[39m=\u001b[39m model\u001b[39m.\u001b[39mpredict(test_X)\n",
            "File \u001b[0;32m/Library/Frameworks/Python.framework/Versions/3.10/lib/python3.10/site-packages/xgboost/sklearn.py:289\u001b[0m, in \u001b[0;36mXGBModel.fit\u001b[0;34m(self, X, y, sample_weight, eval_set, eval_metric, early_stopping_rounds, verbose, xgb_model)\u001b[0m\n\u001b[1;32m    286\u001b[0m     \u001b[39melse\u001b[39;00m:\n\u001b[1;32m    287\u001b[0m         params\u001b[39m.\u001b[39mupdate({\u001b[39m'\u001b[39m\u001b[39meval_metric\u001b[39m\u001b[39m'\u001b[39m: eval_metric})\n\u001b[0;32m--> 289\u001b[0m \u001b[39mself\u001b[39m\u001b[39m.\u001b[39m_Booster \u001b[39m=\u001b[39m train(params, trainDmatrix,\n\u001b[1;32m    290\u001b[0m                       \u001b[39mself\u001b[39;49m\u001b[39m.\u001b[39;49mn_estimators, evals\u001b[39m=\u001b[39;49mevals,\n\u001b[1;32m    291\u001b[0m                       early_stopping_rounds\u001b[39m=\u001b[39;49mearly_stopping_rounds,\n\u001b[1;32m    292\u001b[0m                       evals_result\u001b[39m=\u001b[39;49mevals_result, obj\u001b[39m=\u001b[39;49mobj, feval\u001b[39m=\u001b[39;49mfeval,\n\u001b[1;32m    293\u001b[0m                       verbose_eval\u001b[39m=\u001b[39;49mverbose, xgb_model\u001b[39m=\u001b[39;49mxgb_model)\n\u001b[1;32m    295\u001b[0m \u001b[39mif\u001b[39;00m evals_result:\n\u001b[1;32m    296\u001b[0m     \u001b[39mfor\u001b[39;00m val \u001b[39min\u001b[39;00m evals_result\u001b[39m.\u001b[39mitems():\n",
            "File \u001b[0;32m/Library/Frameworks/Python.framework/Versions/3.10/lib/python3.10/site-packages/xgboost/training.py:200\u001b[0m, in \u001b[0;36mtrain\u001b[0;34m(params, dtrain, num_boost_round, evals, obj, feval, maximize, early_stopping_rounds, evals_result, verbose_eval, xgb_model, callbacks, learning_rates)\u001b[0m\n\u001b[1;32m    196\u001b[0m     warnings\u001b[39m.\u001b[39mwarn(\u001b[39m\"\u001b[39m\u001b[39mlearning_rates parameter is deprecated - use callback API instead\u001b[39m\u001b[39m\"\u001b[39m,\n\u001b[1;32m    197\u001b[0m                   \u001b[39mDeprecationWarning\u001b[39;00m)\n\u001b[1;32m    198\u001b[0m     callbacks\u001b[39m.\u001b[39mappend(callback\u001b[39m.\u001b[39mreset_learning_rate(learning_rates))\n\u001b[0;32m--> 200\u001b[0m \u001b[39mreturn\u001b[39;00m _train_internal(params, dtrain,\n\u001b[1;32m    201\u001b[0m                        num_boost_round\u001b[39m=\u001b[39;49mnum_boost_round,\n\u001b[1;32m    202\u001b[0m                        evals\u001b[39m=\u001b[39;49mevals,\n\u001b[1;32m    203\u001b[0m                        obj\u001b[39m=\u001b[39;49mobj, feval\u001b[39m=\u001b[39;49mfeval,\n\u001b[1;32m    204\u001b[0m                        xgb_model\u001b[39m=\u001b[39;49mxgb_model, callbacks\u001b[39m=\u001b[39;49mcallbacks)\n",
            "File \u001b[0;32m/Library/Frameworks/Python.framework/Versions/3.10/lib/python3.10/site-packages/xgboost/training.py:32\u001b[0m, in \u001b[0;36m_train_internal\u001b[0;34m(params, dtrain, num_boost_round, evals, obj, feval, xgb_model, callbacks)\u001b[0m\n\u001b[1;32m     29\u001b[0m     \u001b[39mfor\u001b[39;00m eval_metric \u001b[39min\u001b[39;00m eval_metrics:\n\u001b[1;32m     30\u001b[0m         params \u001b[39m+\u001b[39m\u001b[39m=\u001b[39m [(\u001b[39m'\u001b[39m\u001b[39meval_metric\u001b[39m\u001b[39m'\u001b[39m, eval_metric)]\n\u001b[0;32m---> 32\u001b[0m bst \u001b[39m=\u001b[39m Booster(params, [dtrain] \u001b[39m+\u001b[39;49m [d[\u001b[39m0\u001b[39;49m] \u001b[39mfor\u001b[39;49;00m d \u001b[39min\u001b[39;49;00m evals])\n\u001b[1;32m     33\u001b[0m nboost \u001b[39m=\u001b[39m \u001b[39m0\u001b[39m\n\u001b[1;32m     34\u001b[0m num_parallel_tree \u001b[39m=\u001b[39m \u001b[39m1\u001b[39m\n",
            "File \u001b[0;32m/Library/Frameworks/Python.framework/Versions/3.10/lib/python3.10/site-packages/xgboost/core.py:739\u001b[0m, in \u001b[0;36mBooster.__init__\u001b[0;34m(self, params, cache, model_file)\u001b[0m\n\u001b[1;32m    736\u001b[0m \u001b[39mself\u001b[39m\u001b[39m.\u001b[39mhandle \u001b[39m=\u001b[39m ctypes\u001b[39m.\u001b[39mc_void_p()\n\u001b[1;32m    737\u001b[0m _check_call(_LIB\u001b[39m.\u001b[39mXGBoosterCreate(dmats, c_bst_ulong(\u001b[39mlen\u001b[39m(cache)),\n\u001b[1;32m    738\u001b[0m                                  ctypes\u001b[39m.\u001b[39mbyref(\u001b[39mself\u001b[39m\u001b[39m.\u001b[39mhandle)))\n\u001b[0;32m--> 739\u001b[0m \u001b[39mself\u001b[39;49m\u001b[39m.\u001b[39;49mset_param({\u001b[39m'\u001b[39;49m\u001b[39mseed\u001b[39;49m\u001b[39m'\u001b[39;49m: \u001b[39m0\u001b[39;49m})\n\u001b[1;32m    740\u001b[0m \u001b[39mself\u001b[39m\u001b[39m.\u001b[39mset_param(params \u001b[39mor\u001b[39;00m {})\n\u001b[1;32m    741\u001b[0m \u001b[39mif\u001b[39;00m model_file \u001b[39mis\u001b[39;00m \u001b[39mnot\u001b[39;00m \u001b[39mNone\u001b[39;00m:\n",
            "File \u001b[0;32m/Library/Frameworks/Python.framework/Versions/3.10/lib/python3.10/site-packages/xgboost/core.py:872\u001b[0m, in \u001b[0;36mBooster.set_param\u001b[0;34m(self, params, value)\u001b[0m\n\u001b[1;32m    862\u001b[0m \u001b[39mdef\u001b[39;00m \u001b[39mset_param\u001b[39m(\u001b[39mself\u001b[39m, params, value\u001b[39m=\u001b[39m\u001b[39mNone\u001b[39;00m):\n\u001b[1;32m    863\u001b[0m     \u001b[39m\"\"\"Set parameters into the Booster.\u001b[39;00m\n\u001b[1;32m    864\u001b[0m \n\u001b[1;32m    865\u001b[0m \u001b[39m    Parameters\u001b[39;00m\n\u001b[0;32m   (...)\u001b[0m\n\u001b[1;32m    870\u001b[0m \u001b[39m       value of the specified parameter, when params is str key\u001b[39;00m\n\u001b[1;32m    871\u001b[0m \u001b[39m    \"\"\"\u001b[39;00m\n\u001b[0;32m--> 872\u001b[0m     \u001b[39mif\u001b[39;00m \u001b[39misinstance\u001b[39m(params, collections\u001b[39m.\u001b[39;49mMapping):\n\u001b[1;32m    873\u001b[0m         params \u001b[39m=\u001b[39m params\u001b[39m.\u001b[39mitems()\n\u001b[1;32m    874\u001b[0m     \u001b[39melif\u001b[39;00m \u001b[39misinstance\u001b[39m(params, STRING_TYPES) \u001b[39mand\u001b[39;00m value \u001b[39mis\u001b[39;00m \u001b[39mnot\u001b[39;00m \u001b[39mNone\u001b[39;00m:\n",
            "\u001b[0;31mAttributeError\u001b[0m: module 'collections' has no attribute 'Mapping'"
          ]
        }
      ],
      "source": [
        "model.fit(train_X, train_y)\n",
        "# fazer previsões em cima do dataset de teste\n",
        "predictions = model.predict(test_X)\n",
        "print(\"Erro Médio Absoluto: {:.2f}\".format(mean_absolute_error(predictions, test_y)))"
      ]
    },
    {
      "cell_type": "code",
      "execution_count": null,
      "metadata": {},
      "outputs": [],
      "source": []
    },
    {
      "cell_type": "code",
      "execution_count": null,
      "metadata": {},
      "outputs": [],
      "source": []
    },
    {
      "cell_type": "code",
      "execution_count": 30,
      "metadata": {
        "colab": {
          "base_uri": "https://localhost:8080/",
          "height": 526
        },
        "id": "Fhx9VKPwjl7D",
        "outputId": "91ddc713-737f-4afb-a9fd-811ddd19d64a"
      },
      "outputs": [
        {
          "name": "stdout",
          "output_type": "stream",
          "text": [
            "     X     Y1    Y2     Y3  X4     Y4\n",
            "0   10   8.04  9.14   7.46   8   6.58\n",
            "1    8   6.95  8.14   6.77   8   5.76\n",
            "2   13   7.58  8.74  12.74   8   7.71\n",
            "3    9   8.81  8.77   7.11   8   8.84\n",
            "4   11   8.33  9.26   7.81   8   8.47\n",
            "5   14   9.96  8.10   8.84   8   7.04\n",
            "6    6   7.24  6.13   6.08   8   5.25\n",
            "7    4   4.26  3.10   5.39  19  12.50\n",
            "8   12  10.84  9.13   8.15   8   5.56\n",
            "9    7   4.81  7.26   6.42   8   7.91\n",
            "10   5   5.68  4.74   5.73   8   6.89\n",
            "-----------------------------------------------------------------------\n"
          ]
        },
        {
          "data": {
            "text/html": [
              "\n",
              "  <div id=\"df-021584f0-6af8-43e1-b4ad-84ed65768bfb\">\n",
              "    <div class=\"colab-df-container\">\n",
              "      <div>\n",
              "<style scoped>\n",
              "    .dataframe tbody tr th:only-of-type {\n",
              "        vertical-align: middle;\n",
              "    }\n",
              "\n",
              "    .dataframe tbody tr th {\n",
              "        vertical-align: top;\n",
              "    }\n",
              "\n",
              "    .dataframe thead th {\n",
              "        text-align: right;\n",
              "    }\n",
              "</style>\n",
              "<table border=\"1\" class=\"dataframe\">\n",
              "  <thead>\n",
              "    <tr style=\"text-align: right;\">\n",
              "      <th></th>\n",
              "      <th>X</th>\n",
              "      <th>Y1</th>\n",
              "      <th>Y2</th>\n",
              "      <th>Y3</th>\n",
              "      <th>X4</th>\n",
              "      <th>Y4</th>\n",
              "    </tr>\n",
              "  </thead>\n",
              "  <tbody>\n",
              "    <tr>\n",
              "      <th>count</th>\n",
              "      <td>11.000000</td>\n",
              "      <td>11.00000</td>\n",
              "      <td>11.000000</td>\n",
              "      <td>11.000000</td>\n",
              "      <td>11.000000</td>\n",
              "      <td>11.000000</td>\n",
              "    </tr>\n",
              "    <tr>\n",
              "      <th>mean</th>\n",
              "      <td>9.000000</td>\n",
              "      <td>7.50000</td>\n",
              "      <td>7.500909</td>\n",
              "      <td>7.500000</td>\n",
              "      <td>9.000000</td>\n",
              "      <td>7.500909</td>\n",
              "    </tr>\n",
              "    <tr>\n",
              "      <th>std</th>\n",
              "      <td>3.316625</td>\n",
              "      <td>2.03289</td>\n",
              "      <td>2.031657</td>\n",
              "      <td>2.030424</td>\n",
              "      <td>3.316625</td>\n",
              "      <td>2.030579</td>\n",
              "    </tr>\n",
              "    <tr>\n",
              "      <th>min</th>\n",
              "      <td>4.000000</td>\n",
              "      <td>4.26000</td>\n",
              "      <td>3.100000</td>\n",
              "      <td>5.390000</td>\n",
              "      <td>8.000000</td>\n",
              "      <td>5.250000</td>\n",
              "    </tr>\n",
              "    <tr>\n",
              "      <th>25%</th>\n",
              "      <td>6.500000</td>\n",
              "      <td>6.31500</td>\n",
              "      <td>6.695000</td>\n",
              "      <td>6.250000</td>\n",
              "      <td>8.000000</td>\n",
              "      <td>6.170000</td>\n",
              "    </tr>\n",
              "    <tr>\n",
              "      <th>50%</th>\n",
              "      <td>9.000000</td>\n",
              "      <td>7.58000</td>\n",
              "      <td>8.140000</td>\n",
              "      <td>7.110000</td>\n",
              "      <td>8.000000</td>\n",
              "      <td>7.040000</td>\n",
              "    </tr>\n",
              "    <tr>\n",
              "      <th>75%</th>\n",
              "      <td>11.500000</td>\n",
              "      <td>8.57000</td>\n",
              "      <td>8.950000</td>\n",
              "      <td>7.980000</td>\n",
              "      <td>8.000000</td>\n",
              "      <td>8.190000</td>\n",
              "    </tr>\n",
              "    <tr>\n",
              "      <th>max</th>\n",
              "      <td>14.000000</td>\n",
              "      <td>10.84000</td>\n",
              "      <td>9.260000</td>\n",
              "      <td>12.740000</td>\n",
              "      <td>19.000000</td>\n",
              "      <td>12.500000</td>\n",
              "    </tr>\n",
              "  </tbody>\n",
              "</table>\n",
              "</div>\n",
              "      <button class=\"colab-df-convert\" onclick=\"convertToInteractive('df-021584f0-6af8-43e1-b4ad-84ed65768bfb')\"\n",
              "              title=\"Convert this dataframe to an interactive table.\"\n",
              "              style=\"display:none;\">\n",
              "        \n",
              "  <svg xmlns=\"http://www.w3.org/2000/svg\" height=\"24px\"viewBox=\"0 0 24 24\"\n",
              "       width=\"24px\">\n",
              "    <path d=\"M0 0h24v24H0V0z\" fill=\"none\"/>\n",
              "    <path d=\"M18.56 5.44l.94 2.06.94-2.06 2.06-.94-2.06-.94-.94-2.06-.94 2.06-2.06.94zm-11 1L8.5 8.5l.94-2.06 2.06-.94-2.06-.94L8.5 2.5l-.94 2.06-2.06.94zm10 10l.94 2.06.94-2.06 2.06-.94-2.06-.94-.94-2.06-.94 2.06-2.06.94z\"/><path d=\"M17.41 7.96l-1.37-1.37c-.4-.4-.92-.59-1.43-.59-.52 0-1.04.2-1.43.59L10.3 9.45l-7.72 7.72c-.78.78-.78 2.05 0 2.83L4 21.41c.39.39.9.59 1.41.59.51 0 1.02-.2 1.41-.59l7.78-7.78 2.81-2.81c.8-.78.8-2.07 0-2.86zM5.41 20L4 18.59l7.72-7.72 1.47 1.35L5.41 20z\"/>\n",
              "  </svg>\n",
              "      </button>\n",
              "      \n",
              "  <style>\n",
              "    .colab-df-container {\n",
              "      display:flex;\n",
              "      flex-wrap:wrap;\n",
              "      gap: 12px;\n",
              "    }\n",
              "\n",
              "    .colab-df-convert {\n",
              "      background-color: #E8F0FE;\n",
              "      border: none;\n",
              "      border-radius: 50%;\n",
              "      cursor: pointer;\n",
              "      display: none;\n",
              "      fill: #1967D2;\n",
              "      height: 32px;\n",
              "      padding: 0 0 0 0;\n",
              "      width: 32px;\n",
              "    }\n",
              "\n",
              "    .colab-df-convert:hover {\n",
              "      background-color: #E2EBFA;\n",
              "      box-shadow: 0px 1px 2px rgba(60, 64, 67, 0.3), 0px 1px 3px 1px rgba(60, 64, 67, 0.15);\n",
              "      fill: #174EA6;\n",
              "    }\n",
              "\n",
              "    [theme=dark] .colab-df-convert {\n",
              "      background-color: #3B4455;\n",
              "      fill: #D2E3FC;\n",
              "    }\n",
              "\n",
              "    [theme=dark] .colab-df-convert:hover {\n",
              "      background-color: #434B5C;\n",
              "      box-shadow: 0px 1px 3px 1px rgba(0, 0, 0, 0.15);\n",
              "      filter: drop-shadow(0px 1px 2px rgba(0, 0, 0, 0.3));\n",
              "      fill: #FFFFFF;\n",
              "    }\n",
              "  </style>\n",
              "\n",
              "      <script>\n",
              "        const buttonEl =\n",
              "          document.querySelector('#df-021584f0-6af8-43e1-b4ad-84ed65768bfb button.colab-df-convert');\n",
              "        buttonEl.style.display =\n",
              "          google.colab.kernel.accessAllowed ? 'block' : 'none';\n",
              "\n",
              "        async function convertToInteractive(key) {\n",
              "          const element = document.querySelector('#df-021584f0-6af8-43e1-b4ad-84ed65768bfb');\n",
              "          const dataTable =\n",
              "            await google.colab.kernel.invokeFunction('convertToInteractive',\n",
              "                                                     [key], {});\n",
              "          if (!dataTable) return;\n",
              "\n",
              "          const docLinkHtml = 'Like what you see? Visit the ' +\n",
              "            '<a target=\"_blank\" href=https://colab.research.google.com/notebooks/data_table.ipynb>data table notebook</a>'\n",
              "            + ' to learn more about interactive tables.';\n",
              "          element.innerHTML = '';\n",
              "          dataTable['output_type'] = 'display_data';\n",
              "          await google.colab.output.renderOutput(dataTable, element);\n",
              "          const docLink = document.createElement('div');\n",
              "          docLink.innerHTML = docLinkHtml;\n",
              "          element.appendChild(docLink);\n",
              "        }\n",
              "      </script>\n",
              "    </div>\n",
              "  </div>\n",
              "  "
            ],
            "text/plain": [
              "               X        Y1         Y2         Y3         X4         Y4\n",
              "count  11.000000  11.00000  11.000000  11.000000  11.000000  11.000000\n",
              "mean    9.000000   7.50000   7.500909   7.500000   9.000000   7.500909\n",
              "std     3.316625   2.03289   2.031657   2.030424   3.316625   2.030579\n",
              "min     4.000000   4.26000   3.100000   5.390000   8.000000   5.250000\n",
              "25%     6.500000   6.31500   6.695000   6.250000   8.000000   6.170000\n",
              "50%     9.000000   7.58000   8.140000   7.110000   8.000000   7.040000\n",
              "75%    11.500000   8.57000   8.950000   7.980000   8.000000   8.190000\n",
              "max    14.000000  10.84000   9.260000  12.740000  19.000000  12.500000"
            ]
          },
          "execution_count": 30,
          "metadata": {},
          "output_type": "execute_result"
        }
      ],
      "source": [
        "data = pd.read_json('sample_data/anscombe.json')\n",
        "input_data = data['X']\n",
        "output_data = data['Y']\n",
        "X1 = input_data[0:11]\n",
        "Y1 = output_data[0:11].values\n",
        "Y2 = output_data[11:22].values\n",
        "Y3 = output_data[22:33].values\n",
        "\n",
        "X4 = input_data[33:44].values\n",
        "Y4 = output_data[33:44].values\n",
        "ascombe = {\n",
        "            \"X\": X1,\n",
        "            \"Y1\":Y1,\n",
        "            \"Y2\":Y2,\n",
        "            \"Y3\":Y3,\n",
        "            \"X4\":X4,\n",
        "            \"Y4\":Y4,\n",
        "}\n",
        "data_para_treinamento_ascombe = pd.DataFrame(ascombe)\n",
        "print(data_para_treinamento_ascombe)\n",
        "print('-----------------------------------------------------------------------')\n",
        "data_para_treinamento_ascombe.describe()"
      ]
    },
    {
      "cell_type": "code",
      "execution_count": 31,
      "metadata": {
        "colab": {
          "base_uri": "https://localhost:8080/",
          "height": 353
        },
        "id": "DfQ3rsCgj25N",
        "outputId": "2c5a8cf3-e47e-484d-b70b-bbff0b2f0a15"
      },
      "outputs": [
        {
          "data": {
            "text/plain": [
              "Text(0.5, 1.0, 'Três primeiras funções do Quarteto de Anscombe [Inversa]')"
            ]
          },
          "execution_count": 31,
          "metadata": {},
          "output_type": "execute_result"
        },
        {
          "data": {
            "image/png": "[encoded data removed]",
            "text/plain": [
              "<Figure size 792x360 with 1 Axes>"
            ]
          },
          "metadata": {
            "needs_background": "light"
          },
          "output_type": "display_data"
        }
      ],
      "source": [
        "plt.figure(figsize=(11,5))\n",
        "ax = plt.axes()\n",
        "ax.plot(data_para_treinamento_ascombe.iloc[:,1],data_para_treinamento_ascombe.iloc[:,0],'o', color='black')\n",
        "ax.plot(data_para_treinamento_ascombe.iloc[:,2],data_para_treinamento_ascombe.iloc[:,0],'o', color='red')\n",
        "ax.plot(data_para_treinamento_ascombe.iloc[:,3],data_para_treinamento_ascombe.iloc[:,0],'o', color='blue')\n",
        "plt.title(\"Três primeiras funções do Quarteto de Anscombe [Inversa]\")"
      ]
    },
    {
      "cell_type": "code",
      "execution_count": 32,
      "metadata": {
        "colab": {
          "base_uri": "https://localhost:8080/",
          "height": 353
        },
        "id": "LPDIjYTEkC_-",
        "outputId": "1f7adaf8-8be3-4b1d-b7ca-d154c082e73a"
      },
      "outputs": [
        {
          "data": {
            "text/plain": [
              "Text(0.5, 1.0, 'Grande Alavanca do Quarteto de Anscombe [Inversa]')"
            ]
          },
          "execution_count": 32,
          "metadata": {},
          "output_type": "execute_result"
        },
        {
          "data": {
            "image/png": "[encoded data removed]",
            "text/plain": [
              "<Figure size 792x360 with 1 Axes>"
            ]
          },
          "metadata": {
            "needs_background": "light"
          },
          "output_type": "display_data"
        }
      ],
      "source": [
        "plt.figure(figsize=(11,5))\n",
        "ax = plt.axes()\n",
        "ax.plot(data_para_treinamento_ascombe.iloc[:,5],data_para_treinamento_ascombe.iloc[:,4],'x', color='black')\n",
        "plt.title(\"Grande Alavanca do Quarteto de Anscombe [Inversa]\")"
      ]
    },
    {
      "cell_type": "code",
      "execution_count": 33,
      "metadata": {
        "colab": {
          "base_uri": "https://localhost:8080/"
        },
        "id": "IsS784jyn187",
        "outputId": "f6c5d3e3-783e-4d0c-eab8-2173eebc533d"
      },
      "outputs": [
        {
          "name": "stdout",
          "output_type": "stream",
          "text": [
            "results:\n",
            "10 -> [10]\n",
            "8 -> [8]\n",
            "13 -> [13]\n",
            "9 -> [9]\n",
            "11 -> [11]\n",
            "14 -> [14]\n",
            "6 -> [6]\n",
            "4 -> [4]\n",
            "12 -> [12]\n",
            "7 -> [7]\n",
            "5 -> [5]\n"
          ]
        },
        {
          "name": "stderr",
          "output_type": "stream",
          "text": [
            "/usr/local/lib/python3.7/dist-packages/sklearn/base.py:451: UserWarning: X does not have valid feature names, but SVC was fitted with feature names\n",
            "  \"X does not have valid feature names, but\"\n",
            "/usr/local/lib/python3.7/dist-packages/sklearn/base.py:451: UserWarning: X does not have valid feature names, but SVC was fitted with feature names\n",
            "  \"X does not have valid feature names, but\"\n",
            "/usr/local/lib/python3.7/dist-packages/sklearn/base.py:451: UserWarning: X does not have valid feature names, but SVC was fitted with feature names\n",
            "  \"X does not have valid feature names, but\"\n",
            "/usr/local/lib/python3.7/dist-packages/sklearn/base.py:451: UserWarning: X does not have valid feature names, but SVC was fitted with feature names\n",
            "  \"X does not have valid feature names, but\"\n",
            "/usr/local/lib/python3.7/dist-packages/sklearn/base.py:451: UserWarning: X does not have valid feature names, but SVC was fitted with feature names\n",
            "  \"X does not have valid feature names, but\"\n",
            "/usr/local/lib/python3.7/dist-packages/sklearn/base.py:451: UserWarning: X does not have valid feature names, but SVC was fitted with feature names\n",
            "  \"X does not have valid feature names, but\"\n",
            "/usr/local/lib/python3.7/dist-packages/sklearn/base.py:451: UserWarning: X does not have valid feature names, but SVC was fitted with feature names\n",
            "  \"X does not have valid feature names, but\"\n",
            "/usr/local/lib/python3.7/dist-packages/sklearn/base.py:451: UserWarning: X does not have valid feature names, but SVC was fitted with feature names\n",
            "  \"X does not have valid feature names, but\"\n",
            "/usr/local/lib/python3.7/dist-packages/sklearn/base.py:451: UserWarning: X does not have valid feature names, but SVC was fitted with feature names\n",
            "  \"X does not have valid feature names, but\"\n",
            "/usr/local/lib/python3.7/dist-packages/sklearn/base.py:451: UserWarning: X does not have valid feature names, but SVC was fitted with feature names\n",
            "  \"X does not have valid feature names, but\"\n",
            "/usr/local/lib/python3.7/dist-packages/sklearn/base.py:451: UserWarning: X does not have valid feature names, but SVC was fitted with feature names\n",
            "  \"X does not have valid feature names, but\"\n"
          ]
        }
      ],
      "source": [
        "Input = data_para_treinamento_ascombe.iloc[:,1:4]\n",
        "output = data_para_treinamento_ascombe.iloc[:,0].to_frame()\n",
        "clf = SVC(gamma='auto')\n",
        "clf.fit(Input,np.ravel(output))\n",
        "print('results:')\n",
        "print('10 ->',clf.predict([[8.04,9.14,7.46]]))\n",
        "print('8 ->',clf.predict([[6.95,8.14,6.77]]))\n",
        "print('13 ->',clf.predict([[7.58,8.74,12.74]]))\n",
        "print('9 ->',clf.predict([[8.81,8.77,7.11]]))\n",
        "print('11 ->',clf.predict([[8.33,9.26,7.81]]))\n",
        "print('14 ->',clf.predict([[ 9.96,8.1,8.84]]))\n",
        "print('6 ->',clf.predict([[7.24,6.13,6.08]]))\n",
        "print('4 ->',clf.predict([[4.26,3.10,5.39]]))\n",
        "print('12 ->',clf.predict([[10.84,9.13,8.15]]))\n",
        "print('7 ->',clf.predict([[4.81,7.26,6.42]]))\n",
        "print('5 ->',clf.predict([[5.68,4.74,5.73]]))"
      ]
    },
    {
      "cell_type": "code",
      "execution_count": 34,
      "metadata": {
        "colab": {
          "base_uri": "https://localhost:8080/",
          "height": 752
        },
        "id": "oj_aj8nFoYvK",
        "outputId": "3148e305-6f07-4379-92b8-d941c3913f19"
      },
      "outputs": [
        {
          "name": "stdout",
          "output_type": "stream",
          "text": [
            "Depois do FIT:\n",
            "          Y1        Y2        Y3\n",
            "0   0.278597  0.846153 -0.020662\n",
            "1  -0.283756  0.329920 -0.377079\n",
            "2   0.041274  0.639660  2.706705\n",
            "3   0.675855  0.655147 -0.201453\n",
            "4   0.428214  0.908101  0.160130\n",
            "5   1.269164  0.309271  0.692173\n",
            "6  -0.134139 -0.707709 -0.733496\n",
            "7  -1.671582 -2.271896 -1.089914\n",
            "8   1.723174  0.840991  0.335755\n",
            "9  -1.387825 -0.124365 -0.557871\n",
            "10 -0.938975 -1.425273 -0.914288\n",
            "     X\n",
            "0   10\n",
            "1    8\n",
            "2   13\n",
            "3    9\n",
            "4   11\n",
            "5   14\n",
            "6    6\n",
            "7    4\n",
            "8   12\n",
            "9    7\n",
            "10   5\n",
            "-----------------------------------------------------------------------\n"
          ]
        },
        {
          "data": {
            "text/html": [
              "\n",
              "  <div id=\"df-782473c4-faff-44bb-af97-b2fbdd4ca803\">\n",
              "    <div class=\"colab-df-container\">\n",
              "      <div>\n",
              "<style scoped>\n",
              "    .dataframe tbody tr th:only-of-type {\n",
              "        vertical-align: middle;\n",
              "    }\n",
              "\n",
              "    .dataframe tbody tr th {\n",
              "        vertical-align: top;\n",
              "    }\n",
              "\n",
              "    .dataframe thead th {\n",
              "        text-align: right;\n",
              "    }\n",
              "</style>\n",
              "<table border=\"1\" class=\"dataframe\">\n",
              "  <thead>\n",
              "    <tr style=\"text-align: right;\">\n",
              "      <th></th>\n",
              "      <th>Y1</th>\n",
              "      <th>Y2</th>\n",
              "      <th>Y3</th>\n",
              "    </tr>\n",
              "  </thead>\n",
              "  <tbody>\n",
              "    <tr>\n",
              "      <th>count</th>\n",
              "      <td>1.100000e+01</td>\n",
              "      <td>1.100000e+01</td>\n",
              "      <td>1.100000e+01</td>\n",
              "    </tr>\n",
              "    <tr>\n",
              "      <th>mean</th>\n",
              "      <td>1.009294e-16</td>\n",
              "      <td>4.239033e-16</td>\n",
              "      <td>7.065056e-17</td>\n",
              "    </tr>\n",
              "    <tr>\n",
              "      <th>std</th>\n",
              "      <td>1.048809e+00</td>\n",
              "      <td>1.048809e+00</td>\n",
              "      <td>1.048809e+00</td>\n",
              "    </tr>\n",
              "    <tr>\n",
              "      <th>min</th>\n",
              "      <td>-1.671582e+00</td>\n",
              "      <td>-2.271896e+00</td>\n",
              "      <td>-1.089914e+00</td>\n",
              "    </tr>\n",
              "    <tr>\n",
              "      <th>25%</th>\n",
              "      <td>-6.113655e-01</td>\n",
              "      <td>-4.160371e-01</td>\n",
              "      <td>-6.456835e-01</td>\n",
              "    </tr>\n",
              "    <tr>\n",
              "      <th>50%</th>\n",
              "      <td>4.127362e-02</td>\n",
              "      <td>3.299200e-01</td>\n",
              "      <td>-2.014533e-01</td>\n",
              "    </tr>\n",
              "    <tr>\n",
              "      <th>75%</th>\n",
              "      <td>5.520346e-01</td>\n",
              "      <td>7.480690e-01</td>\n",
              "      <td>2.479425e-01</td>\n",
              "    </tr>\n",
              "    <tr>\n",
              "      <th>max</th>\n",
              "      <td>1.723174e+00</td>\n",
              "      <td>9.081013e-01</td>\n",
              "      <td>2.706705e+00</td>\n",
              "    </tr>\n",
              "  </tbody>\n",
              "</table>\n",
              "</div>\n",
              "      <button class=\"colab-df-convert\" onclick=\"convertToInteractive('df-782473c4-faff-44bb-af97-b2fbdd4ca803')\"\n",
              "              title=\"Convert this dataframe to an interactive table.\"\n",
              "              style=\"display:none;\">\n",
              "        \n",
              "  <svg xmlns=\"http://www.w3.org/2000/svg\" height=\"24px\"viewBox=\"0 0 24 24\"\n",
              "       width=\"24px\">\n",
              "    <path d=\"M0 0h24v24H0V0z\" fill=\"none\"/>\n",
              "    <path d=\"M18.56 5.44l.94 2.06.94-2.06 2.06-.94-2.06-.94-.94-2.06-.94 2.06-2.06.94zm-11 1L8.5 8.5l.94-2.06 2.06-.94-2.06-.94L8.5 2.5l-.94 2.06-2.06.94zm10 10l.94 2.06.94-2.06 2.06-.94-2.06-.94-.94-2.06-.94 2.06-2.06.94z\"/><path d=\"M17.41 7.96l-1.37-1.37c-.4-.4-.92-.59-1.43-.59-.52 0-1.04.2-1.43.59L10.3 9.45l-7.72 7.72c-.78.78-.78 2.05 0 2.83L4 21.41c.39.39.9.59 1.41.59.51 0 1.02-.2 1.41-.59l7.78-7.78 2.81-2.81c.8-.78.8-2.07 0-2.86zM5.41 20L4 18.59l7.72-7.72 1.47 1.35L5.41 20z\"/>\n",
              "  </svg>\n",
              "      </button>\n",
              "      \n",
              "  <style>\n",
              "    .colab-df-container {\n",
              "      display:flex;\n",
              "      flex-wrap:wrap;\n",
              "      gap: 12px;\n",
              "    }\n",
              "\n",
              "    .colab-df-convert {\n",
              "      background-color: #E8F0FE;\n",
              "      border: none;\n",
              "      border-radius: 50%;\n",
              "      cursor: pointer;\n",
              "      display: none;\n",
              "      fill: #1967D2;\n",
              "      height: 32px;\n",
              "      padding: 0 0 0 0;\n",
              "      width: 32px;\n",
              "    }\n",
              "\n",
              "    .colab-df-convert:hover {\n",
              "      background-color: #E2EBFA;\n",
              "      box-shadow: 0px 1px 2px rgba(60, 64, 67, 0.3), 0px 1px 3px 1px rgba(60, 64, 67, 0.15);\n",
              "      fill: #174EA6;\n",
              "    }\n",
              "\n",
              "    [theme=dark] .colab-df-convert {\n",
              "      background-color: #3B4455;\n",
              "      fill: #D2E3FC;\n",
              "    }\n",
              "\n",
              "    [theme=dark] .colab-df-convert:hover {\n",
              "      background-color: #434B5C;\n",
              "      box-shadow: 0px 1px 3px 1px rgba(0, 0, 0, 0.15);\n",
              "      filter: drop-shadow(0px 1px 2px rgba(0, 0, 0, 0.3));\n",
              "      fill: #FFFFFF;\n",
              "    }\n",
              "  </style>\n",
              "\n",
              "      <script>\n",
              "        const buttonEl =\n",
              "          document.querySelector('#df-782473c4-faff-44bb-af97-b2fbdd4ca803 button.colab-df-convert');\n",
              "        buttonEl.style.display =\n",
              "          google.colab.kernel.accessAllowed ? 'block' : 'none';\n",
              "\n",
              "        async function convertToInteractive(key) {\n",
              "          const element = document.querySelector('#df-782473c4-faff-44bb-af97-b2fbdd4ca803');\n",
              "          const dataTable =\n",
              "            await google.colab.kernel.invokeFunction('convertToInteractive',\n",
              "                                                     [key], {});\n",
              "          if (!dataTable) return;\n",
              "\n",
              "          const docLinkHtml = 'Like what you see? Visit the ' +\n",
              "            '<a target=\"_blank\" href=https://colab.research.google.com/notebooks/data_table.ipynb>data table notebook</a>'\n",
              "            + ' to learn more about interactive tables.';\n",
              "          element.innerHTML = '';\n",
              "          dataTable['output_type'] = 'display_data';\n",
              "          await google.colab.output.renderOutput(dataTable, element);\n",
              "          const docLink = document.createElement('div');\n",
              "          docLink.innerHTML = docLinkHtml;\n",
              "          element.appendChild(docLink);\n",
              "        }\n",
              "      </script>\n",
              "    </div>\n",
              "  </div>\n",
              "  "
            ],
            "text/plain": [
              "                 Y1            Y2            Y3\n",
              "count  1.100000e+01  1.100000e+01  1.100000e+01\n",
              "mean   1.009294e-16  4.239033e-16  7.065056e-17\n",
              "std    1.048809e+00  1.048809e+00  1.048809e+00\n",
              "min   -1.671582e+00 -2.271896e+00 -1.089914e+00\n",
              "25%   -6.113655e-01 -4.160371e-01 -6.456835e-01\n",
              "50%    4.127362e-02  3.299200e-01 -2.014533e-01\n",
              "75%    5.520346e-01  7.480690e-01  2.479425e-01\n",
              "max    1.723174e+00  9.081013e-01  2.706705e+00"
            ]
          },
          "execution_count": 34,
          "metadata": {},
          "output_type": "execute_result"
        }
      ],
      "source": [
        "scaler = StandardScaler()\n",
        "#Input = Input.to_numpy().reshape(1,-1)\n",
        "Input = scaler.fit_transform(Input,y=output)\n",
        "Input = pd.DataFrame(Input,columns=['Y1','Y2', 'Y3'])\n",
        "print(\"Depois do FIT:\")\n",
        "print(Input)\n",
        "print(output)\n",
        "print('-----------------------------------------------------------------------')\n",
        "Input.describe()"
      ]
    },
    {
      "cell_type": "code",
      "execution_count": 35,
      "metadata": {
        "id": "UakSa2htos4g"
      },
      "outputs": [],
      "source": [
        "frames = [Input, Input, Input, Input, Input, Input, Input, Input, Input, Input]\n",
        "Input = pd.concat(frames)\n",
        "frames = [output, output, output, output, output, output, output, output, output, output]\n",
        "output = pd.concat(frames)"
      ]
    },
    {
      "cell_type": "code",
      "execution_count": 36,
      "metadata": {
        "colab": {
          "base_uri": "https://localhost:8080/"
        },
        "id": "9A4H1aGopWvu",
        "outputId": "42321454-c084-40b1-b794-51d640fa3366"
      },
      "outputs": [
        {
          "name": "stdout",
          "output_type": "stream",
          "text": [
            "KFold(n_splits=10, random_state=None, shuffle=False)\n",
            "SVC 1.00 accuracy with a standard deviation of 0.00\n",
            "lasso 0.78 accuracy with a standard deviation of 0.00\n",
            "LDA 1.00 accuracy with a standard deviation of 0.00\n",
            "NB 1.00 accuracy with a standard deviation of 0.00\n",
            "KNN 1.00 accuracy with a standard deviation of 0.00\n",
            "CART 1.00 accuracy with a standard deviation of 0.00\n",
            "ADA 0.55 accuracy with a standard deviation of 0.00\n",
            "GBM 1.00 accuracy with a standard deviation of 0.00\n",
            "RF 1.00 accuracy with a standard deviation of 0.00\n",
            "XGB 1.00 accuracy with a standard deviation of 0.00\n"
          ]
        }
      ],
      "source": [
        "num_folds = 10\n",
        "modelos = []\n",
        "\n",
        "modelos.append(('SVC', SVC()))\n",
        "modelos.append(('lasso', linear_model.Lasso()))\n",
        "modelos.append(('LDA', LinearDiscriminantAnalysis()))\n",
        "modelos.append(('NB', GaussianNB()))\n",
        "modelos.append(('KNN', KNeighborsClassifier()))\n",
        "modelos.append(('CART', DecisionTreeClassifier()))\n",
        "modelos.append(('ADA', AdaBoostClassifier()))\n",
        "modelos.append(('GBM', GradientBoostingClassifier()))\n",
        "modelos.append(('RF', RandomForestClassifier()))\n",
        "modelos.append(('XGB', xgb.XGBClassifier()))\n",
        "\n",
        "resultados = []\n",
        "kfold = model_selection.KFold(n_splits=num_folds)\n",
        "print(kfold)\n",
        "for nome, modelo in modelos:\n",
        "  cv_results = model_selection.cross_val_score(modelo,Input,np.ravel(output),cv=kfold)\n",
        "  resultados.append([nome, cv_results])\n",
        "\n",
        "for nome, cv_results in resultados:\n",
        "  print(nome,\"%0.2f accuracy with a standard deviation of %0.2f\" % (cv_results.mean(), cv_results.std()))"
      ]
    },
    {
      "cell_type": "code",
      "execution_count": 37,
      "metadata": {
        "id": "zMXOAgRnqeTS"
      },
      "outputs": [],
      "source": [
        "Input = data_para_treinamento_ascombe.iloc[:,5]\n",
        "output = data_para_treinamento_ascombe.iloc[:,4].to_frame()"
      ]
    },
    {
      "cell_type": "code",
      "execution_count": 38,
      "metadata": {
        "colab": {
          "base_uri": "https://localhost:8080/"
        },
        "id": "hvirp7YJqhC1",
        "outputId": "1f2f2f08-e730-4473-9a40-78bb474d847c"
      },
      "outputs": [
        {
          "name": "stdout",
          "output_type": "stream",
          "text": [
            "results:\n",
            "8 -> [8]\n",
            "8 -> [8]\n",
            "...\n",
            "8 -> [8]\n",
            "...\n",
            "19 -> [19]\n",
            "...\n",
            "8 -> [8]\n"
          ]
        }
      ],
      "source": [
        "clf = SVC(gamma='auto')\n",
        "clf.fit(Input.to_numpy().reshape(-1,1),np.ravel(output))\n",
        "print('results:')\n",
        "print('8 ->',clf.predict([[6.58]]))\n",
        "print('8 ->',clf.predict([[5.76]]))\n",
        "print('...')\n",
        "print('8 ->',clf.predict([[7.04]]))\n",
        "print('...')\n",
        "print('19 ->',clf.predict([[12.5]]))\n",
        "print('...')\n",
        "print('8 ->',clf.predict([[6.89]]))"
      ]
    }
  ],
  "metadata": {
    "colab": {
      "authorship_tag": "ABX9TyPjcLjwmMngTxhFzH1vy+5J",
      "collapsed_sections": [],
      "include_colab_link": true,
      "name": "anscombe.ipynb",
      "provenance": []
    },
    "kernelspec": {
      "display_name": "Python 3.10.5 64-bit",
      "language": "python",
      "name": "python3"
    },
    "language_info": {
      "codemirror_mode": {
        "name": "ipython",
        "version": 3
      },
      "file_extension": ".py",
      "mimetype": "text/x-python",
      "name": "python",
      "nbconvert_exporter": "python",
      "pygments_lexer": "ipython3",
      "version": "3.10.5"
    },
    "vscode": {
      "interpreter": {
        "hash": "aee8b7b246df8f9039afb4144a1f6fd8d2ca17a180786b69acc140d282b71a49"
      }
    }
  },
  "nbformat": 4,
  "nbformat_minor": 0
}
